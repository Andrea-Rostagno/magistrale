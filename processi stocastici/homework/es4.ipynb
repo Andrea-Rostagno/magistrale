{
 "cells": [
  {
   "cell_type": "markdown",
   "metadata": {},
   "source": [
    "# Punto g esercizio 4"
   ]
  },
  {
   "cell_type": "code",
   "execution_count": 12,
   "metadata": {},
   "outputs": [
    {
     "name": "stdout",
     "output_type": "stream",
     "text": [
      "Matrice di transizione dopo 6 passi:\n",
      "[[0.003081 0.003027 0.001648 0.22308  0.769164]\n",
      " [0.00333  0.003619 0.001917 0.222924 0.76821 ]\n",
      " [0.007365 0.007164 0.003922 0.224328 0.757221]\n",
      " [0.       0.       0.       0.222223 0.777777]\n",
      " [0.       0.       0.       0.222222 0.777778]]\n",
      "Probabilità che l'ultimo ingresso in {1, 2, 3} avvenga entro 6 passi: 0.6445714337146\n"
     ]
    }
   ],
   "source": [
    "import numpy as np\n",
    "\n",
    "def transition_matrix_n_steps(P, n):\n",
    "    \n",
    "    # Eleva la matrice alla potenza n usando numpy.linalg.matrix_power\n",
    "    P_n = np.linalg.matrix_power(P, n)\n",
    "    return P_n\n",
    "\n",
    "P = np.array([\n",
    "    [0, 0.2, 0.1, 0, 0.7],\n",
    "    [0.3, 0, 0.1, 0.6, 0],\n",
    "    [0.3, 0.5, 0.1, 0, 0.1],\n",
    "    [0, 0, 0, 0.3, 0.7],\n",
    "    [0, 0, 0, 0.2, 0.8]\n",
    "])\n",
    "\n",
    "n=6\n",
    "\n",
    "P_n = transition_matrix_n_steps(P, n)\n",
    "print(f\"Matrice di transizione dopo {n} passi:\")\n",
    "print(P_n)\n",
    "\n",
    "# Stato iniziale\n",
    "initial_state = 1  # Partiamo dallo stato 1\n",
    "\n",
    "# Numero di passi\n",
    "n_steps = 6\n",
    "\n",
    "# Probabilità cumulativa P(U <= 6)\n",
    "P_U_leq_6 = 0\n",
    "\n",
    "#Calcoliamo P(U = k) per ciascun k e sommiamolo\n",
    "for k in range(1, n_steps + 1):\n",
    "    # Calcola la matrice di transizione dopo k passi\n",
    "    P_k = np.linalg.matrix_power(P, k)\n",
    "    \n",
    "    # Probabilità di trovarsi in {1, 2, 3} al passo k\n",
    "    prob_in_123_at_k = P_k[initial_state, 0] + P_k[initial_state, 1] + P_k[initial_state, 2]\n",
    "    \n",
    "    # Calcola la matrice di transizione dopo k+1 passi\n",
    "    P_k_plus_1 = np.linalg.matrix_power(P, k + 1)\n",
    "    \n",
    "    # Probabilità di passare in {4, 5} al passo k+1\n",
    "    prob_to_45_at_k_plus_1 = P_k_plus_1[initial_state, 3] + P_k_plus_1[initial_state, 4]\n",
    "    \n",
    "    # Calcola P(U = k) e aggiungilo alla somma totale\n",
    "    P_U_k = prob_in_123_at_k * prob_to_45_at_k_plus_1\n",
    "    P_U_leq_6 += P_U_k\n",
    "\n",
    "print(\"Probabilità che l'ultimo ingresso in {1, 2, 3} avvenga entro 6 passi:\", P_U_leq_6)"
   ]
  },
  {
   "cell_type": "markdown",
   "metadata": {},
   "source": [
    "# Esercizio 3"
   ]
  },
  {
   "cell_type": "code",
   "execution_count": 24,
   "metadata": {},
   "outputs": [
    {
     "data": {
      "text/plain": [
       "[<matplotlib.lines.Line2D at 0x274b57cf5c0>]"
      ]
     },
     "execution_count": 24,
     "metadata": {},
     "output_type": "execute_result"
    },
    {
     "data": {
      "image/png": "[encoded data removed]",
      "text/plain": [
       "<Figure size 640x480 with 1 Axes>"
      ]
     },
     "metadata": {},
     "output_type": "display_data"
    }
   ],
   "source": [
    "import math\n",
    "import matplotlib.pyplot as plt\n",
    "\n",
    "n_salti=0\n",
    "salti_max=500\n",
    "t=0\n",
    "y=[]\n",
    "while n_salti<=salti_max:\n",
    "    y.append(100*math.log(t+1))\n",
    "    t+=1\n",
    "    n_salti+=1\n",
    "\n",
    "x=np.linspace(0,salti_max,salti_max+1)\n",
    "plt.plot(x,y)\n"
   ]
  }
 ],
 "metadata": {
  "kernelspec": {
   "display_name": "Python 3",
   "language": "python",
   "name": "python3"
  },
  "language_info": {
   "codemirror_mode": {
    "name": "ipython",
    "version": 3
   },
   "file_extension": ".py",
   "mimetype": "text/x-python",
   "name": "python",
   "nbconvert_exporter": "python",
   "pygments_lexer": "ipython3",
   "version": "3.12.7"
  }
 },
 "nbformat": 4,
 "nbformat_minor": 2
}
