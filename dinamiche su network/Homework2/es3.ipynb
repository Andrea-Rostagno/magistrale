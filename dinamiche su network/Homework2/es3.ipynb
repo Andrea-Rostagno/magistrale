{
 "cells": [
  {
   "cell_type": "code",
   "execution_count": 12,
   "metadata": {},
   "outputs": [
    {
     "name": "stdout",
     "output_type": "stream",
     "text": [
      "Soluzione trovata (in frazioni):\n",
      "x1 = 2095788/497347\n",
      "x2 = 939208/853907\n",
      "x3 = 1/10\n",
      "x4 = 87023/855375\n",
      "Valore minimo della funzione obiettivo = 7199/167972\n"
     ]
    }
   ],
   "source": [
    "import numpy as np\n",
    "from scipy.optimize import minimize\n",
    "from fractions import Fraction\n",
    "\n",
    "def objective(a):\n",
    "    a1, a2, a3, a4 = a\n",
    "    return ((2 + a1) / (9 + a1 + a2 + a3 + a4))**2 * 0.1 + \\\n",
    "           ((2 + a2) / (9 + a1 + a2 + a3 + a4))**2 * 0.2 + \\\n",
    "           ((2 + a3) / (9 + a1 + a2 + a3 + a4))**2 * 0.3 + \\\n",
    "           ((3 + a4) / (9 + a1 + a2 + a3 + a4))**2 * 0.2\n",
    "\n",
    "# Vincoli\n",
    "constraints = [\n",
    "    {'type': 'ineq', 'fun': lambda a: a[0]-0.1},  # a1 >= 0\n",
    "    {'type': 'ineq', 'fun': lambda a: a[1]-0.1},  # a2 >= 0\n",
    "    {'type': 'ineq', 'fun': lambda a: a[2]-0.1},  # a3 >= 0\n",
    "    {'type': 'ineq', 'fun': lambda a: a[3]-0.1},  # a4 >= 0\n",
    "]\n",
    "\n",
    "# Valori iniziali\n",
    "a0 = np.array([1, 1, 1, 1])\n",
    "\n",
    "# Minimizzazione\n",
    "result = minimize(objective, a0, constraints=constraints)\n",
    "\n",
    "# Output dei risultati come frazioni\n",
    "if result.success:\n",
    "    print(\"Soluzione trovata (in frazioni):\")\n",
    "    print(\"x1 =\", Fraction(result.x[0]).limit_denominator())\n",
    "    print(\"x2 =\", Fraction(result.x[1]).limit_denominator())\n",
    "    print(\"x3 =\", Fraction(result.x[2]).limit_denominator())\n",
    "    print(\"x4 =\", Fraction(result.x[3]).limit_denominator())\n",
    "    print(\"Valore minimo della funzione obiettivo =\", Fraction(result.fun).limit_denominator())\n",
    "else:\n",
    "    print(\"La minimizzazione non è riuscita.\")\n"
   ]
  }
 ],
 "metadata": {
  "kernelspec": {
   "display_name": "Python 3",
   "language": "python",
   "name": "python3"
  },
  "language_info": {
   "codemirror_mode": {
    "name": "ipython",
    "version": 3
   },
   "file_extension": ".py",
   "mimetype": "text/x-python",
   "name": "python",
   "nbconvert_exporter": "python",
   "pygments_lexer": "ipython3",
   "version": "3.12.7"
  }
 },
 "nbformat": 4,
 "nbformat_minor": 2
}
