{
 "cells": [
  {
   "cell_type": "markdown",
   "metadata": {},
   "source": [
    "# Esercizio 3"
   ]
  },
  {
   "cell_type": "code",
   "execution_count": 1,
   "metadata": {},
   "outputs": [
    {
     "ename": "ModuleNotFoundError",
     "evalue": "No module named 'networkx'",
     "output_type": "error",
     "traceback": [
      "\u001b[1;31m---------------------------------------------------------------------------\u001b[0m",
      "\u001b[1;31mModuleNotFoundError\u001b[0m                       Traceback (most recent call last)",
      "Cell \u001b[1;32mIn[1], line 2\u001b[0m\n\u001b[0;32m      1\u001b[0m \u001b[38;5;28;01mimport\u001b[39;00m \u001b[38;5;21;01mnumpy\u001b[39;00m \u001b[38;5;28;01mas\u001b[39;00m \u001b[38;5;21;01mnp\u001b[39;00m\n\u001b[1;32m----> 2\u001b[0m \u001b[38;5;28;01mimport\u001b[39;00m \u001b[38;5;21;01mnetworkx\u001b[39;00m \u001b[38;5;28;01mas\u001b[39;00m \u001b[38;5;21;01mnx\u001b[39;00m\n\u001b[0;32m      3\u001b[0m \u001b[38;5;28;01mimport\u001b[39;00m \u001b[38;5;21;01mmatplotlib\u001b[39;00m\u001b[38;5;21;01m.\u001b[39;00m\u001b[38;5;21;01mpyplot\u001b[39;00m \u001b[38;5;28;01mas\u001b[39;00m \u001b[38;5;21;01mplt\u001b[39;00m\n\u001b[0;32m      5\u001b[0m G \u001b[38;5;241m=\u001b[39m nx\u001b[38;5;241m.\u001b[39mGraph() \u001b[38;5;66;03m#grafo non orientato\u001b[39;00m\n",
      "\u001b[1;31mModuleNotFoundError\u001b[0m: No module named 'networkx'"
     ]
    }
   ],
   "source": [
    "import numpy as np\n",
    "import networkx as nx\n",
    "import matplotlib.pyplot as plt\n",
    "\n",
    "G = nx.Graph() #grafo non orientato\n",
    "edges = [\n",
    "    (1, 2), (1, 3), (1, 4), (1, 5), (1, 6),\n",
    "    (2, 3), (2, 4), (2, 5), (2, 6), \n",
    "    (3, 4), (3, 5), (3, 6),\n",
    "    (4, 5), (4, 6), (5, 6),\n",
    "    (6, 7), (7, 8), (8, 9), (9, 10), (9, 11), \n",
    "    (9, 12), (9, 13), (9, 14)\n",
    "]\n",
    "G.add_edges_from(edges) #aggiungo gli archi e i nodi al grafo\n",
    "#Disegno per controllare\n",
    "nx.draw(G, with_labels=True, node_color='lightblue', node_size=300, font_weight='bold')\n",
    "plt.show()"
   ]
  },
  {
   "cell_type": "markdown",
   "metadata": {},
   "source": [
    "## Punto a"
   ]
  },
  {
   "cell_type": "code",
   "execution_count": null,
   "metadata": {},
   "outputs": [
    {
     "name": "stdout",
     "output_type": "stream",
     "text": [
      "Node 1: 0.38461538461538464\n",
      "Node 2: 0.38461538461538464\n",
      "Node 3: 0.38461538461538464\n",
      "Node 4: 0.38461538461538464\n",
      "Node 5: 0.38461538461538464\n",
      "Node 6: 0.46153846153846156\n",
      "Node 7: 0.15384615384615385\n",
      "Node 8: 0.15384615384615385\n",
      "Node 9: 0.46153846153846156\n",
      "Node 10: 0.07692307692307693\n",
      "Node 11: 0.07692307692307693\n",
      "Node 12: 0.07692307692307693\n",
      "Node 13: 0.07692307692307693\n",
      "Node 14: 0.07692307692307693\n"
     ]
    }
   ],
   "source": [
    "# Degree Centrality\n",
    "degree_centrality = nx.degree_centrality(G)\n",
    "for node, centrality in degree_centrality.items():\n",
    "    print(f\"Node {node}: {centrality}\")"
   ]
  },
  {
   "cell_type": "markdown",
   "metadata": {},
   "source": [
    "Nodi con un numero maggiore di archi hanno valori superiori a nodi con un numero minore di archi. Non si tiene conto dell'importanza delle connessioni."
   ]
  },
  {
   "cell_type": "code",
   "execution_count": null,
   "metadata": {},
   "outputs": [
    {
     "name": "stdout",
     "output_type": "stream",
     "text": [
      "Node 1: 0.404208042495086\n",
      "Node 2: 0.404208042495086\n",
      "Node 3: 0.404208042495086\n",
      "Node 4: 0.404208042495086\n",
      "Node 5: 0.404208042495086\n",
      "Node 6: 0.4185766681354634\n",
      "Node 7: 0.08672190464962151\n",
      "Node 8: 0.018113426010031138\n",
      "Node 9: 0.004484156952836004\n",
      "Node 10: 0.0008913128082836684\n",
      "Node 11: 0.0008913128082836684\n",
      "Node 12: 0.0008913128082836684\n",
      "Node 13: 0.0008913128082836684\n",
      "Node 14: 0.0008913128082836684\n"
     ]
    }
   ],
   "source": [
    "# Eigenvector Centrality\n",
    "eigenvector_centrality = nx.eigenvector_centrality(G, max_iter=1000)\n",
    "for node, centrality in eigenvector_centrality.items():\n",
    "    print(f\"Node {node}: {centrality}\")"
   ]
  },
  {
   "cell_type": "markdown",
   "metadata": {},
   "source": [
    "Vengono considerati sia il numero di archi di ogni nodo, sia l'importanza dei nodi a cui sono collegati. I nodi dall'uno al cinque sono i nodi con valori maggiori poichè ogni nodo ha una buona centralità ed è collegato ad altri nodi altrettanto centrali."
   ]
  },
  {
   "cell_type": "code",
   "execution_count": null,
   "metadata": {},
   "outputs": [
    {
     "name": "stdout",
     "output_type": "stream",
     "text": [
      "Node 1: 0.10869565217391317\n",
      "Node 2: 0.10869565217391344\n",
      "Node 3: 0.10869565217391329\n",
      "Node 4: 0.10869565217391333\n",
      "Node 5: 0.10869565217391328\n",
      "Node 6: 0.13043478260869593\n",
      "Node 7: 0.043478260869565036\n",
      "Node 8: 0.04347826086956503\n",
      "Node 9: 0.1304347826086948\n",
      "Node 10: 0.02173913043478244\n",
      "Node 11: 0.02173913043478244\n",
      "Node 12: 0.02173913043478244\n",
      "Node 13: 0.02173913043478244\n",
      "Node 14: 0.02173913043478244\n"
     ]
    }
   ],
   "source": [
    "# Invariant Distribution Centrality \n",
    "adj_matrix = nx.adjacency_matrix(G).todense()\n",
    "identity_matrix=np.eye(len(G.nodes), dtype=int)\n",
    "sum_rows = np.sum(adj_matrix,1)\n",
    "P = adj_matrix / sum_rows[:,np.newaxis]  \n",
    "P_final=np.zeros((len(G.nodes),len(G.nodes)))\n",
    "for i in range(len(G.nodes)):\n",
    "    for j in range(len(G.nodes)):\n",
    "        if i==j:\n",
    "            P_final[i][j]=1-P[i][j]\n",
    "        else:\n",
    "            P_final[i][j]=-1*P[j][i]\n",
    "A=np.vstack([P_final,np.ones(len(G.nodes))])\n",
    "b=np.append(np.zeros(len(G.nodes)),1)\n",
    "invariant_distribution = np.linalg.lstsq(A, b, rcond=None)[0]\n",
    "for node, centrality in enumerate(invariant_distribution):\n",
    "    print(f\"Node {node+1}: {centrality}\")\n"
   ]
  },
  {
   "cell_type": "markdown",
   "metadata": {},
   "source": [
    "## Punto b"
   ]
  },
  {
   "cell_type": "code",
   "execution_count": null,
   "metadata": {},
   "outputs": [
    {
     "name": "stdout",
     "output_type": "stream",
     "text": [
      "Node 1: 0.07290450925268847\n",
      "Node 2: 0.07290450925268846\n",
      "Node 3: 0.07290450925268847\n",
      "Node 4: 0.07290450925268847\n",
      "Node 5: 0.07290450925268847\n",
      "Node 6: 0.07680760227765836\n",
      "Node 7: 0.027025691097618713\n",
      "Node 8: 0.01982398407346623\n",
      "Node 9: 0.026941737394307913\n",
      "Node 10: 0.015262049204093554\n",
      "Node 11: 0.01526204920409355\n",
      "Node 12: 0.01526204920409355\n",
      "Node 13: 0.01526204920409355\n",
      "Node 14: 0.01526204920409355\n"
     ]
    }
   ],
   "source": [
    "# Katz Centrality\n",
    "beta = 0.15\n",
    "mu =np.ones(len(G.nodes), dtype=float)/len(G.nodes)\n",
    "lambda_max = np.max(np.linalg.eigvals(adj_matrix))\n",
    "katz_centrality= np.linalg.inv(identity_matrix-(1-beta)/lambda_max*np.transpose(adj_matrix)).dot(beta*mu) \n",
    "for node, centrality in enumerate(katz_centrality):\n",
    "    print(f\"Node {node+1}: {centrality}\")\n"
   ]
  },
  {
   "cell_type": "markdown",
   "metadata": {},
   "source": [
    "## Punto c"
   ]
  },
  {
   "cell_type": "code",
   "execution_count": null,
   "metadata": {},
   "outputs": [
    {
     "name": "stdout",
     "output_type": "stream",
     "text": [
      "Node 1: 0.07657901462696959\n",
      "Node 2: 0.07657901462696959\n",
      "Node 3: 0.07657901462696959\n",
      "Node 4: 0.07657901462696959\n",
      "Node 5: 0.07657901462696959\n",
      "Node 6: 0.09734855016790099\n",
      "Node 7: 0.050686455894217684\n",
      "Node 8: 0.06160417564033448\n",
      "Node 9: 0.20715525651281927\n",
      "Node 10: 0.04006209772997592\n",
      "Node 11: 0.04006209772997592\n",
      "Node 12: 0.04006209772997592\n",
      "Node 13: 0.04006209772997592\n",
      "Node 14: 0.04006209772997592\n"
     ]
    }
   ],
   "source": [
    "# PageRank Centrality\n",
    "#pg_centrality= np.linalg.inv(identity_matrix-(1-beta)*np.transpose(P)).dot(beta*mu)\n",
    "pagerank_centrality = nx.pagerank(G)\n",
    "for node, centrality in pagerank_centrality.items():\n",
    "    print(f\"Node {node}: {centrality}\")\n"
   ]
  },
  {
   "cell_type": "markdown",
   "metadata": {},
   "source": [
    "# Punto d\n"
   ]
  },
  {
   "cell_type": "markdown",
   "metadata": {},
   "source": [
    "I risultati del punto c evidenziano il ruolo del nodo $n_9$, che emerge come il nodo più centrale della rete.<br>\n",
    "Questo risultato è dovuto alla sua funzione di collegamento per i nodi periferici, che lo rende un nodo con una probabilità più elevata di essere visitato in una passeggiata casuale.<br>\n",
    "Il nodo $n_6$, sebbene ancora centrale, ha un valore inferiore poiché i nodi a cui è collegato sono collegati fra loro, quindi per raggiungerli si può non passare sempre per $n_6$, <br>\n",
    "cosa invece obbligatoria per $n_9$ (per raggiungere i nodi periferici bisogna sempre passare per $n_9$).<br>\n",
    "I risultati del punto b evidenziano il nodo $n_6$ come il nodo più centrale della rete.<br>\n",
    "Questo risultato è dovuto ai suoi collegamenti con altri nodi centrali e quindi gli aumentano la sua centralità.<br>\n",
    "Il nodo $n_9$ invece non ha un valore molto alto in quanto non è collegato a nodi centrali.<br>\n",
    "La katz centrality a differenza della eignvector centrality assegna valori di centralità a tutti i nodi, anche a quelli più perifrici (in particolare i nodi a cui è collegato $n_9$)."
   ]
  }
 ],
 "metadata": {
  "kernelspec": {
   "display_name": "Python 3",
   "language": "python",
   "name": "python3"
  },
  "language_info": {
   "codemirror_mode": {
    "name": "ipython",
    "version": 3
   },
   "file_extension": ".py",
   "mimetype": "text/x-python",
   "name": "python",
   "nbconvert_exporter": "python",
   "pygments_lexer": "ipython3",
   "version": "3.12.7"
  }
 },
 "nbformat": 4,
 "nbformat_minor": 2
}
